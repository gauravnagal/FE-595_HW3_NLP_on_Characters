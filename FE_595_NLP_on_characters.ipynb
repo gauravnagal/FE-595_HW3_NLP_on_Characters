{
 "cells": [
  {
   "cell_type": "code",
   "execution_count": 2,
   "metadata": {},
   "outputs": [],
   "source": [
    "# import necessary packages\n",
    "import os\n",
    "import glob\n",
    "import re\n",
    "import nltk\n",
    "from string import digits\n",
    "import collections\n",
    "from textblob import TextBlob\n",
    "from collections import Counter\n",
    "import pandas as pd"
   ]
  },
  {
   "cell_type": "code",
   "execution_count": 3,
   "metadata": {},
   "outputs": [],
   "source": [
    "# change working directory\n",
    "os.chdir(\"C:/Lecture/\")"
   ]
  },
  {
   "cell_type": "code",
   "execution_count": 4,
   "metadata": {},
   "outputs": [
    {
     "name": "stdout",
     "output_type": "stream",
     "text": [
      "female (2).txt\n",
      "female (3).txt\n",
      "female (4).txt\n",
      "female (5).txt\n",
      "female (6).txt\n",
      "female (7).txt\n",
      "Female (8).txt\n",
      "female.txt\n",
      "femalefile.txt\n",
      "FemaleHeroes.txt\n",
      "Female_Characters (2).txt\n",
      "female_characters.txt\n",
      "he (2).txt\n",
      "he (3).txt\n",
      "HE.txt\n",
      "her.txt\n",
      "hes.txt\n",
      "hesfile.txt\n",
      "his.txt\n",
      "male (2).txt\n",
      "male (3).txt\n",
      "male (4).txt\n",
      "male (5).txt\n",
      "male (6).txt\n",
      "male (7).txt\n",
      "Male (8).txt\n",
      "male.txt\n",
      "malefile.txt\n",
      "MaleHeroes.txt\n",
      "Male_Characters (2).txt\n",
      "male_characters.txt\n",
      "merged.txt\n",
      "np.txt\n",
      "she (2).txt\n",
      "she (3).txt\n",
      "SHE.txt\n",
      "shes.txt\n",
      "shesfile.txt\n",
      "Female_data.csv\n",
      "Female_list.csv\n",
      "Male_data.csv\n",
      "Male_list.csv\n"
     ]
    }
   ],
   "source": [
    "# getting all txt and csv files from the folder\n",
    "all_files = glob.glob(\"*.txt\") + glob.glob(\"*.csv\")\n",
    "print(*all_files, sep = '\\n') # total 40 files"
   ]
  },
  {
   "cell_type": "code",
   "execution_count": 5,
   "metadata": {},
   "outputs": [],
   "source": [
    "# creating dataframe\n",
    "male_char = pd.DataFrame()\n",
    "female_char = pd.DataFrame()"
   ]
  },
  {
   "cell_type": "code",
   "execution_count": 6,
   "metadata": {},
   "outputs": [],
   "source": [
    "# creating file to work on\n",
    "with open(\"all\", \"w\") as out_file:\n",
    "    for i in all_files:\n",
    "        with open(i, \"r\") as in_file:\n",
    "            out_file.write(in_file.read())"
   ]
  },
  {
   "cell_type": "code",
   "execution_count": 7,
   "metadata": {},
   "outputs": [],
   "source": [
    "with open(\"all\") as data:\n",
    "    for row in data:\n",
    "        # removing digits, period and \"They fight crime!\" from sentences\n",
    "        row = row.replace(digits, \"\").replace(\".\", \"\").replace(\"They fight crime!\",\"\")\n",
    "        row_split = row.split(\" \")\n",
    "        \n",
    "        # creating male dataframe\n",
    "        if(row_split[0] == \"He's\"):\n",
    "            new_row = \" \".join(row_split[0:])\n",
    "            male_char = male_char.append({\"Character\":new_row, \"Sentiment\":TextBlob(new_row).sentiment.polarity}, \n",
    "                                         ignore_index = True)\n",
    "        \n",
    "        # creating female dataframe\n",
    "        if(row_split[0] == \"She's\"):\n",
    "            new_row = \" \".join(row_split[0:])\n",
    "            female_char = female_char.append({\"Character\":new_row,\"Sentiment\":TextBlob(new_row).sentiment.polarity}, \n",
    "                                             ignore_index = True)"
   ]
  },
  {
   "cell_type": "code",
   "execution_count": 8,
   "metadata": {},
   "outputs": [],
   "source": [
    "# male and female dataframe in descending order\n",
    "male_char = male_char.sort_values(['Sentiment'], ascending = [False]).reset_index(drop = True)\n",
    "female_char = female_char.sort_values(['Sentiment'], ascending = [False]).reset_index(drop = True)"
   ]
  },
  {
   "cell_type": "code",
   "execution_count": 9,
   "metadata": {},
   "outputs": [],
   "source": [
    "# combinig male and female dataframe\n",
    "male_female_df = pd.concat([male_char, female_char])"
   ]
  },
  {
   "cell_type": "code",
   "execution_count": 10,
   "metadata": {},
   "outputs": [],
   "source": [
    "# finding top descriptors and their frequency\n",
    "top_descriptors = []\n",
    "for i in male_female_df['Character']:\n",
    "    line_np = TextBlob(i).noun_phrases\n",
    "    for j in range(len(line_np)):\n",
    "        top_descriptors.append(line_np[j])\n",
    "freq = collections.Counter(top_descriptors)"
   ]
  },
  {
   "cell_type": "code",
   "execution_count": 11,
   "metadata": {},
   "outputs": [],
   "source": [
    "top_desc_df = pd.DataFrame({'Descriptor':[i for i in freq.keys()], \n",
    "                            'Frequency': [i for i in freq.values()]}).sort_values('Frequency', ascending = False)"
   ]
  },
  {
   "cell_type": "code",
   "execution_count": 12,
   "metadata": {},
   "outputs": [],
   "source": [
    "# saving list as csv\n",
    "male_char.head(10).to_csv ('top_10_male.csv', index = None, header = True) # top 10 male\n",
    "male_char.tail(10).to_csv ('bottom_10_male.csv', index = None, header = True) # bottom 10 male\n",
    "female_char.head(10).to_csv ('top_10_female.csv', index = None, header = True) # top 10 female\n",
    "female_char.tail(10).to_csv ('bottom_10_female.csv', index = None, header = True) # bottom 10 female\n",
    "top_desc_df.head(10).to_csv ('top_10_desc.csv', index = None, header = True) # top 10 descriptors"
   ]
  }
 ],
 "metadata": {
  "kernelspec": {
   "display_name": "Python 3",
   "language": "python",
   "name": "python3"
  },
  "language_info": {
   "codemirror_mode": {
    "name": "ipython",
    "version": 3
   },
   "file_extension": ".py",
   "mimetype": "text/x-python",
   "name": "python",
   "nbconvert_exporter": "python",
   "pygments_lexer": "ipython3",
   "version": "3.7.1"
  }
 },
 "nbformat": 4,
 "nbformat_minor": 2
}
